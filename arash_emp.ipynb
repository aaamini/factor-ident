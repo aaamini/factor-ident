{
 "cells": [
  {
   "cell_type": "code",
   "execution_count": 1,
   "metadata": {},
   "outputs": [],
   "source": [
    "from sklearn.model_selection import KFold\n",
    "import numpy as np\n",
    "import scipy.stats\n",
    "from sklearn.linear_model import LinearRegression\n",
    "import statsmodels.api as sm\n",
    "from joblib import Parallel,delayed\n",
    "from celer import GroupLasso\n",
    "%matplotlib inline\n",
    "import matplotlib.pyplot as plt\n",
    "from sklearn.metrics import mean_squared_error\n",
    "from joblib import Parallel,delayed\n",
    "\n",
    "import pandas as pd\n",
    "import warnings\n",
    "import cvxpy as cp\n",
    "from helpers import *\n",
    "import random\n",
    "warnings.filterwarnings('ignore')\n",
    "\n",
    "\n",
    "df100 = pd.read_csv('empirical_data/X100_22.csv')\n",
    "dff100 = df100[df100.columns[1:]]\n",
    "\n",
    "\n",
    "fama285_ = pd.read_csv('/home/guonaixin/trylab/factor-ident/empirical_data/Fama285_22.csv')\n",
    "fama285 = fama285_[fama285_.columns[1:]]\n",
    "\n",
    "Z = dff100.values\n",
    "# df22 = pd.read_csv('/home/guonaixin/trylab/X_full_22.csv')\n",
    "# df96 = pd.read_csv('/home/guonaixin/trylab/X_full.csv')\n",
    "# df22['Unnamed: 0'] = df96['Unnamed: 0']\n",
    "# dff22 = df22[df22.columns[1:]]\n",
    "# dff96 = df96[df96.columns[1:]]\n",
    "# fama285_ = pd.read_csv('/home/guonaixin/trylab/Fama285.csv')\n",
    "# fama285_['Unnamed: 0'] = df96['Unnamed: 0']\n",
    "# fama285 = fama285_[fama285_.columns[1:]]\n",
    "\n",
    "# finally_choose = []             \n",
    "# chosen_set =[]\n",
    "     \n",
    "# chosen_set =[] \n"
   ]
  },
  {
   "cell_type": "code",
   "execution_count": 4,
   "metadata": {},
   "outputs": [
    {
     "name": "stdout",
     "output_type": "stream",
     "text": [
      "Counter({4: 88, 3: 88, 2: 85, 1: 83, 0: 82, 18: 9, 8: 6, 9: 5, 12: 4, 24: 4, 7: 4, 20: 4, 5: 4, 11: 4, 22: 3, 21: 3, 23: 3, 14: 3, 6: 3, 13: 3, 19: 3, 17: 3, 10: 2, 15: 2, 16: 2})\n",
      "selected factor size: 5.0 CP: 0.3 CF: 0.3 TR: 0.852 FR: 0.037 F1: 0.852\n",
      "(5.0, 0.3, 0.3, 0.852, 0.037, 0.852)\n",
      "Counter({2: 98, 1: 98, 4: 97, 0: 96, 3: 95, 31: 2, 32: 2, 12: 2, 6: 1, 33: 1, 19: 1, 24: 1, 15: 1, 22: 1, 17: 1, 7: 1, 8: 1, 13: 1})\n",
      "selected factor size: 5.0 CP: 0.84 CF: 0.84 TR: 0.968 FR: 0.005333 F1: 0.968\n",
      "(5.0, 0.84, 0.84, 0.968, 0.005333, 0.968)\n",
      "Counter({1: 100, 2: 99, 4: 99, 0: 99, 3: 99, 16: 1, 36: 1, 24: 1, 7: 1})\n",
      "selected factor size: 5.0 CP: 0.96 CF: 0.96 TR: 0.992 FR: 0.001 F1: 0.992\n",
      "(5.0, 0.96, 0.96, 0.992, 0.001, 0.992)\n",
      "Counter({2: 100, 4: 100, 1: 100, 3: 100, 0: 99, 17: 1})\n",
      "selected factor size: 5.0 CP: 0.99 CF: 0.99 TR: 0.998 FR: 0.0002 F1: 0.998\n",
      "(5.0, 0.99, 0.99, 0.998, 0.0002, 0.998)\n",
      "Counter({4: 100, 1: 100, 3: 100, 0: 100, 2: 99, 26: 1})\n",
      "selected factor size: 5.0 CP: 0.99 CF: 0.99 TR: 0.998 FR: 0.000167 F1: 0.998\n",
      "(5.0, 0.99, 0.99, 0.998, 0.000167, 0.998)\n"
     ]
    }
   ],
   "source": [
    "plist = [25, 35, 45, 55, 65, 75, 105]\n",
    "n = 300\n",
    "knum = 5\n",
    "\n",
    "\n",
    "N_simulations = 100\n",
    "true_set = [0,1,2,3,4]\n",
    "rho = 1\n",
    "sig =0.3\n",
    "Chosen_svd_set_5 =[]\n",
    "\n",
    "def Final(i,p):\n",
    "   Unionset = []\n",
    "   np.random.seed(i)\n",
    "   random.seed(i)\n",
    "#    df = pd.read_csv('/home/guonaixin/trylab/factor-ident/simu_matrix/100_'+str(p)+'_5Xfull'+str(i+1)+'.csv')\n",
    "#    df =df.drop('Unnamed: 0',axis=1)\n",
    "#    Z = np.array(df,dtype = 'float64')\n",
    "   Z = create_Z(n, knum, p, rho, sig)\n",
    "   unionset = choose_factor('DGL', Z, knum, train_size=600, svd_C = compute_svd_C(Z,knum), asset=[[None]],fix_true = None,fix_false = None,hyper_p = 0.1) \n",
    "#    unionset = choose_factor('DGL', Z, knum, train_size=600, svd_C = 5, asset=[[None]],fix_true = None,fix_false = None,hyper_p = 0.1) \n",
    "   return  unionset\n",
    "Select_knum = []\n",
    "CPlist=[]\n",
    "CFlist=[]\n",
    "TRlist=[]\n",
    "FRlist=[]\n",
    "F1list = [] \n",
    "for p in plist:\n",
    "    N_chosen_set= Parallel(n_jobs=50)(delayed(Final)(i,p) for i in range(N_simulations))\n",
    "\n",
    "    num_chosen_set=[]\n",
    "    Final_knum=[]\n",
    "    for unionset in N_chosen_set:\n",
    "        num_chosen_set.append(unionset[0]) \n",
    "        Final_knum.append(len(unionset[0]))\n",
    "        \n",
    "    result=evaluate(num_chosen_set,N_simulations,knum,p) #3/5\n",
    "    print(result)\n",
    "    Select_knum.append(result[0]) \n",
    "    CPlist.append(result[1])\n",
    "    CFlist.append(result[2])\n",
    "    TRlist.append(result[3])\n",
    "    FRlist.append(result[4])\n",
    "    F1list.append(result[5])\n",
    "    \n",
    "fig = plt.figure(figsize =(4, 3))\n",
    "# Creating axes instance\n",
    "ax = fig.add_axes([0, 0, 1, 1])\n",
    "x = plist\n",
    "plt.grid(linestyle=\"--\", alpha=0.3)\n",
    "plt.title('n = 300, k = 5')\n",
    "plt.xlabel('number of candidate factors '+ '$ p$')\n",
    "plt.ylabel('rate')  # y轴标题\n",
    "plt.plot(x, np.array(CPlist), marker='o', markersize=3)  \n",
    "plt.plot(x, np.array(CFlist), marker='o', markersize=3)\n",
    "plt.plot(x, np.array(TRlist), marker='o', markersize=3)\n",
    "plt.plot(x, np.array(FRlist), marker='o', markersize=3)\n",
    "\n",
    "\n",
    "plt.legend(['CP', 'CF', 'TPR', 'FPR'],prop = {'size':8})  \n",
    "\n",
    "plt.show()  # 显示折线图\n",
    "fig.savefig('simu_result/plot_300_5_dgl_sim.pdf',dpi=600,format='pdf',bbox_inches=\"tight\")\n",
    "\n"
   ]
  },
  {
   "cell_type": "code",
   "execution_count": 1,
   "metadata": {},
   "outputs": [],
   "source": [
    "from sklearn.model_selection import KFold\n",
    "import numpy as np\n",
    "import scipy.stats\n",
    "from sklearn.linear_model import LinearRegression\n",
    "import statsmodels.api as sm\n",
    "from joblib import Parallel,delayed\n",
    "from celer import GroupLasso\n",
    "%matplotlib inline\n",
    "import matplotlib.pyplot as plt\n",
    "from sklearn.metrics import mean_squared_error\n",
    "from joblib import Parallel,delayed\n",
    "\n",
    "import pandas as pd\n",
    "import warnings\n",
    "import cvxpy as cp\n",
    "from helpers import *\n",
    "import random\n",
    "warnings.filterwarnings('ignore')\n",
    "\n",
    "fama285_ = pd.read_csv('/home/guonaixin/trylab/factor-ident/empirical_data/Fama285_22.csv')\n",
    "fama285 = fama285_[fama285_.columns[1:]]\n",
    "df99 = pd.read_csv('/home/guonaixin/trylab/factor-ident/empirical_data/X99_22.csv')\n",
    "dff99 = df99[df99.columns[1:]]\n",
    "df22 = pd.read_csv('/home/guonaixin/trylab/factor-ident/empirical_data/X22_22.csv')\n",
    "dff22 = df22[df22.columns[1:]]\n",
    "df99['Unnamed: 0'] = fama285_['Date']\n",
    "df22['Unnamed: 0'] = fama285_['Date']"
   ]
  },
  {
   "cell_type": "code",
   "execution_count": null,
   "metadata": {},
   "outputs": [],
   "source": [
    "round(np.mean(dff99)*100/np.std(dff99) * np.sqrt(12),2)[50:]"
   ]
  },
  {
   "cell_type": "code",
   "execution_count": null,
   "metadata": {},
   "outputs": [],
   "source": [
    "round(np.mean(dff99)*100/np.std(dff99) * np.sqrt(12),2)[:50]"
   ]
  },
  {
   "cell_type": "code",
   "execution_count": 10,
   "metadata": {},
   "outputs": [],
   "source": [
    "finally_choose = []\n",
    "knum = 7\n",
    "for year_i in range(1,21):\n",
    "    dfff = dff99[year_i*12:year_i*12+359]\n",
    "    Z = np.float64(dfff)\n",
    "    chosen_set = choose_factor('SGL', Z, knum, train_size=600, svd_C = 0.4, asset=[[None]],fix_true = None,fix_false = None,hyper_p = 0.1) \n",
    "    finally_choose.append([df99['Unnamed: 0'][year_i*12],dff99.columns[chosen_set]])"
   ]
  },
  {
   "cell_type": "code",
   "execution_count": 3,
   "metadata": {},
   "outputs": [
    {
     "data": {
      "text/plain": [
       "[197301,\n",
       " Index(['CP', 'QMJ', 'SMB', 'ROE', 'CMA', 'RMW', 'MKTRF'], dtype='object')]"
      ]
     },
     "execution_count": 3,
     "metadata": {},
     "output_type": "execute_result"
    }
   ],
   "source": [
    "finally_choose[0]"
   ]
  },
  {
   "cell_type": "code",
   "execution_count": 13,
   "metadata": {},
   "outputs": [],
   "source": [
    "       \n",
    "import seaborn as sns\n",
    "from collections import Counter\n",
    "import matplotlib.pyplot as plt\n",
    "rresult = []\n",
    "Result = []\n",
    "for i in range(len(finally_choose)):\n",
    "    Result.append(list(finally_choose[i][1]))\n",
    "# Result=finally_choose\n",
    "for result in Result:\n",
    "    rresult+=list(result)\n",
    "rresult = Counter(rresult)\n",
    "freqindex= sorted(rresult.items(), key=lambda x: x[1], reverse=True)\n",
    "\n",
    "df_plot = pd.DataFrame()\n",
    "for i in range(len(Result)):\n",
    "    for j in range(len(Result[i])):\n",
    "        if Result[i][j] not in df_plot.columns:\n",
    "            df_plot[Result[i][j]] = pd.Series([np.nan]*len(Result))\n",
    "        df_plot[Result[i][j]][i] = Result[i][j]\n",
    "\n",
    "df_plot = df_plot.applymap(lambda x: 1 if pd.notnull(x) else x)\n",
    "df_plot = df_plot.fillna(0)\n",
    "\n",
    "# df_plot = pd.DataFrame(Result).T\n",
    "df_plot = df_plot.T\n",
    "df =  df99\n",
    "df_plot.columns = [str(df99['Unnamed: 0'][k*12+359])[:4] for k in range(1,1+df_plot.shape[1])]\n",
    "df_plot['temp_sum'] = df_plot.sum(axis=1)\n",
    "# df_plot['factors'] = [f'factor_{k}' for k in range(df_plot.shape[0])]\n",
    "# df_plot['factors'] = [freqindex[k][0] for k in range(df_plot.shape[0])]\n",
    "df_plot['factors'] = [freqindex[k][0] for k in range(df_plot.shape[0])]\n",
    "df_plot = df_plot.sort_values(by=['temp_sum'], ascending=False)\n",
    "df_plot = df_plot.drop(['temp_sum'], axis=1)\n",
    "df_plot = df_plot.set_index('factors')\n"
   ]
  },
  {
   "cell_type": "code",
   "execution_count": 14,
   "metadata": {},
   "outputs": [
    {
     "data": {
      "text/plain": [
       "<Figure size 300x100 with 0 Axes>"
      ]
     },
     "metadata": {},
     "output_type": "display_data"
    },
    {
     "data": {
      "image/png": "[encoded data removed]",
      "text/plain": [
       "<Figure size 3000x1000 with 1 Axes>"
      ]
     },
     "metadata": {},
     "output_type": "display_data"
    }
   ],
   "source": [
    "\n",
    "fig = plt.figure(figsize =(3, 1))\n",
    "plt.rcParams['figure.figsize'] = (30.0, 10.0)\n",
    "plt.rcParams['axes.unicode_minus']=False\n",
    "# sns.set_palette(sns.color_palette('bright', n_colors = 30))\n",
    "\n",
    "# colors = [\"gold\", \"paleturquoise\", \"orange\", \n",
    "#           \"lightcoral\", \"mediumorchid\", \"crimson\", \"cadetblue\", \n",
    "#           \"olivedrab\", \"deepskyblue\", \"greenyellow\", \"lightcoral\", \"chocolate\", \n",
    "#           \"darkgreen\", \"yellow\", \"dimgray\", \"darkblue\", \"pink\", \n",
    "#           \"bright blue\", \"burnt orange\", \"salmon\", \n",
    "#           \"forest green\", \"khaki\", \"aqua\", \"maroon\", \"navy\", \"hot pink\", \n",
    "#           \"greyish blue\", \"seafoam\"]\n",
    "colors = [\"#DC143C\", \"#FFA500\",\"#FFD700\", \"#ADFF2F\", \"#40E0D0\", \n",
    "          \"#DDA0DD\",\"#800080\",\"#5F9EA0\", \"#6B8E23\", \"#AFEEEE\",\n",
    "           \"#FFC0CB\", \"#F0E68C\", \"#66CDAA\",\"#008080\",\"#800000\",\n",
    "          \"#4682B4\",  \"#8B4513\",\"#696969\", \"#aaa662\", \"#E9967A\"]\n",
    "sns.set_palette(sns.color_palette(colors))\n",
    "# sns.set_palette(sns.xkcd_palette(colors))\n",
    "\n",
    "df_plot.plot.bar(stacked=True, alpha=0.8, )\n",
    "plt.xticks(rotation=360, fontsize=25)\n",
    "\n",
    "plt.yticks(fontsize=25)\n",
    "plt.xlabel('factor', fontsize=25)\n",
    "plt.ylabel('chosen times', fontsize=20)   \n",
    "plt.legend(fontsize=20, loc=\"upper right\",ncol=2)\n",
    "plt.title('factor selected in each window', fontsize=30)\n",
    "# plt.ticklabel_format(axis=\"y\", style=\"plain\")\n",
    "# plt.yticks(np.arange(0, 251, 50))\n",
    "# plt.savefig('summary_stats/figure_1.png', dpi=100)\n",
    "fig = plt.gcf()\n",
    "plt.show()\n",
    "# plt.close()\n",
    "fig.savefig('window22_5.pdf',dpi=600,format='pdf',bbox_inches=\"tight\")\n"
   ]
  },
  {
   "cell_type": "code",
   "execution_count": 38,
   "metadata": {},
   "outputs": [],
   "source": [
    "       \n",
    "import seaborn as sns\n",
    "from collections import Counter\n",
    "import matplotlib.pyplot as plt\n",
    "rresult = []\n",
    "for i in range(len(finally_choose)):\n",
    "    finally_choose[i]=list(finally_choose[i][1][0])\n",
    "Result=finally_choose\n",
    "for result in Result:\n",
    "    rresult+=list(result)\n",
    "rresult = Counter(rresult)\n",
    "freqindex= sorted(rresult.items(), key=lambda x: x[1], reverse=True)\n",
    "\n",
    "df_plot = pd.DataFrame()\n",
    "for i in range(len(Result)):\n",
    "    for j in range(len(Result[i])):\n",
    "        if Result[i][j] not in df_plot.columns:\n",
    "            df_plot[Result[i][j]] = pd.Series([np.nan]*len(Result))\n",
    "        df_plot[Result[i][j]][i] = Result[i][j]\n",
    "\n",
    "df_plot = df_plot.applymap(lambda x: 1 if pd.notnull(x) else x)\n",
    "df_plot = df_plot.fillna(0)\n",
    "\n",
    "# df_plot = pd.DataFrame(Result).T\n",
    "df_plot = df_plot.T\n",
    "df =  pd.read_csv('/home/guonaixin/trylab/X_full.csv')\n",
    "df_plot.columns = [str(df22['Unnamed: 0'][k*12+359])[:4] for k in range(df_plot.shape[1])]\n",
    "df_plot['temp_sum'] = df_plot.sum(axis=1)\n",
    "# df_plot['factors'] = [f'factor_{k}' for k in range(df_plot.shape[0])]\n",
    "# df_plot['factors'] = [freqindex[k][0] for k in range(df_plot.shape[0])]\n",
    "df_plot['factors'] = [freqindex[k][0] for k in range(df_plot.shape[0])]\n",
    "df_plot = df_plot.sort_values(by=['temp_sum'], ascending=False)\n",
    "df_plot = df_plot.drop(['temp_sum'], axis=1)\n",
    "df_plot = df_plot.set_index('factors')\n"
   ]
  },
  {
   "cell_type": "code",
   "execution_count": 39,
   "metadata": {},
   "outputs": [
    {
     "data": {
      "text/plain": [
       "<Figure size 300x100 with 0 Axes>"
      ]
     },
     "metadata": {},
     "output_type": "display_data"
    },
    {
     "data": {
      "image/png": "[encoded data removed]",
      "text/plain": [
       "<Figure size 3000x1000 with 1 Axes>"
      ]
     },
     "metadata": {},
     "output_type": "display_data"
    }
   ],
   "source": [
    "\n",
    "fig = plt.figure(figsize =(3, 1))\n",
    "plt.rcParams['figure.figsize'] = (30.0, 10.0)\n",
    "plt.rcParams['axes.unicode_minus']=False\n",
    "# sns.set_palette(sns.color_palette('bright', n_colors = 30))\n",
    "\n",
    "# colors = [\"gold\", \"paleturquoise\", \"orange\", \n",
    "#           \"lightcoral\", \"mediumorchid\", \"crimson\", \"cadetblue\", \n",
    "#           \"olivedrab\", \"deepskyblue\", \"greenyellow\", \"lightcoral\", \"chocolate\", \n",
    "#           \"darkgreen\", \"yellow\", \"dimgray\", \"darkblue\", \"pink\", \n",
    "#           \"bright blue\", \"burnt orange\", \"salmon\", \n",
    "#           \"forest green\", \"khaki\", \"aqua\", \"maroon\", \"navy\", \"hot pink\", \n",
    "#           \"greyish blue\", \"seafoam\"]\n",
    "colors = [\"#DC143C\", \"#FFA500\",\"#FFD700\", \"#ADFF2F\", \"#40E0D0\", \n",
    "          \"#DDA0DD\",\"#800080\",\"#5F9EA0\", \"#6B8E23\", \"#AFEEEE\",\n",
    "           \"#FFC0CB\", \"#F0E68C\", \"#66CDAA\",\"#008080\",\"#800000\",\n",
    "          \"#4682B4\",  \"#8B4513\",\"#696969\", \"#aaa662\", \"#E9967A\"]\n",
    "sns.set_palette(sns.color_palette(colors))\n",
    "# sns.set_palette(sns.xkcd_palette(colors))\n",
    "\n",
    "df_plot.plot.bar(stacked=True, alpha=0.8, )\n",
    "plt.xticks(rotation=360, fontsize=25)\n",
    "\n",
    "plt.yticks(fontsize=25)\n",
    "plt.xlabel('factor', fontsize=25)\n",
    "plt.ylabel('chosen times', fontsize=20)   \n",
    "plt.legend(fontsize=20, loc=\"upper right\",ncol=2)\n",
    "plt.title('factor selected in each window', fontsize=30)\n",
    "# plt.ticklabel_format(axis=\"y\", style=\"plain\")\n",
    "# plt.yticks(np.arange(0, 251, 50))\n",
    "# plt.savefig('summary_stats/figure_1.png', dpi=100)\n",
    "fig = plt.gcf()\n",
    "plt.show()\n",
    "# plt.close()\n",
    "fig.savefig('window96_5.pdf',dpi=600,format='pdf',bbox_inches=\"tight\")\n"
   ]
  },
  {
   "attachments": {},
   "cell_type": "markdown",
   "metadata": {},
   "source": [
    "# EXPLAIN OTHERS"
   ]
  },
  {
   "cell_type": "code",
   "execution_count": 5,
   "metadata": {},
   "outputs": [
    {
     "name": "stdout",
     "output_type": "stream",
     "text": [
      "['CMA', 'COP', 'CP', 'FIN', 'dNCO', 'HMLM', 'MKTRF']\n"
     ]
    }
   ],
   "source": [
    "\n",
    "knum=5\n",
    "\n",
    "chosen_set = choose_factor('DGL', Z, knum, train_size=600, svd_C =10, asset=[[None]],fix_true = None,fix_false = None,hyper_p = 0.1)[0]\n",
    "print(list(dff100.columns[chosen_set]))"
   ]
  },
  {
   "cell_type": "code",
   "execution_count": 7,
   "metadata": {},
   "outputs": [
    {
     "name": "stdout",
     "output_type": "stream",
     "text": [
      "['CP', 'COP', 'CMA', 'ROE1', 'FIN', 'MKTRF', 'QMJ', 'UMD']\n"
     ]
    }
   ],
   "source": [
    "\n",
    "knum=8\n",
    "\n",
    "chosen_set = choose_factor('DGL', Z[:12*36], knum, train_size=600, svd_C =10, asset=[[None]],fix_true = None,fix_false = None,hyper_p = 0.1)[0]\n",
    "print(list(dff100.columns[chosen_set]))"
   ]
  },
  {
   "cell_type": "code",
   "execution_count": 6,
   "metadata": {},
   "outputs": [
    {
     "name": "stdout",
     "output_type": "stream",
     "text": [
      "['CP', 'COP', 'MKTRF', 'CMA', 'ROE1', 'FIN', 'UMD']\n"
     ]
    }
   ],
   "source": [
    "\n",
    "knum=5\n",
    "\n",
    "chosen_set = choose_factor('DGL', Z[:12*36], knum, train_size=600, svd_C =10, asset=[[None]],fix_true = None,fix_false = None,hyper_p = 0.1)[0]\n",
    "print(list(dff100.columns[chosen_set]))"
   ]
  },
  {
   "cell_type": "code",
   "execution_count": 61,
   "metadata": {},
   "outputs": [
    {
     "name": "stdout",
     "output_type": "stream",
     "text": [
      "['CMA', 'QMJ', 'ROE', 'RMW', 'SMB', 'HML', 'REG', 'MKTRF', 'PEAD']\n"
     ]
    }
   ],
   "source": [
    "\n",
    "from helpers import *\n",
    "chosen_set = choose_factor('TSMS', Z, knum, train_size=600, svd_C =5, asset=[[None]],fix_true = None,fix_false = None,hyper_p = 0.000002)\n",
    "print(list(dff100.columns[chosen_set]))"
   ]
  },
  {
   "cell_type": "code",
   "execution_count": 43,
   "metadata": {},
   "outputs": [
    {
     "name": "stdout",
     "output_type": "stream",
     "text": [
      "1 ['QMJ', 'REG', 'IA', 'CMA', 'RMW', 'PEAD', 'ROE', 'SMB', 'ISq1', 'ISFF1', 'FIN', 'NI', 'NXF', 'dFNL', 'CEI']\n",
      "2 ['CMA', 'QMJ', 'IA', 'HML', 'REG', 'ROE', 'RMW', 'PEAD', 'FIN', 'LTR', 'HMLM', 'NEI1', 'SMB', 'EBP', 'CP']\n",
      "3 ['CMA', 'IA', 'QMJ', 'HML', 'REG', 'PEAD', 'ROE', 'RMW', 'HMLM', 'FIN', 'SMB', 'LTR', 'NEI1', 'EBP', 'BM']\n",
      "4 ['CMA', 'QMJ', 'IA', 'RMW', 'ROE', 'HML', 'REG', 'PEAD', 'HMLM', 'FIN', 'SMB', 'NEI1', 'LTR', 'CP', 'MKTRF']\n",
      "5 ['CMA', 'QMJ', 'IA', 'ROE', 'RMW', 'HML', 'SMB', 'REG', 'PEAD', 'HMLM', 'FIN', 'DTV12', 'NEI1', 'LTR', 'MKTRF']\n",
      "6 ['CMA', 'IA', 'ROE', 'QMJ', 'RMW', 'HML', 'SMB', 'REG', 'PEAD', 'HMLM', 'FIN', 'CP', 'LTR', 'DTV12', 'NEI1']\n",
      "7 ['CMA', 'QMJ', 'IA', 'RMW', 'ROE', 'SMB', 'HML', 'REG', 'PEAD', 'HMLM', 'MKTRF', 'FIN', 'DTV12', 'CP', 'LTR']\n",
      "8 ['CMA', 'QMJ', 'IA', 'RMW', 'ROE', 'SMB', 'REG', 'HML', 'PEAD', 'HMLM', 'CP', 'MKTRF', 'FIN', 'DTV12', 'COP']\n",
      "9 ['CMA', 'IA', 'QMJ', 'ROE', 'RMW', 'SMB', 'REG', 'HML', 'MKTRF', 'PEAD', 'HMLM', 'CP', 'IVOL', 'CLA', 'FIN']\n",
      "10 ['CMA', 'IA', 'QMJ', 'ROE', 'RMW', 'SMB', 'HML', 'REG', 'MKTRF', 'PEAD', 'HMLM', 'CLA', 'CP', 'IVOL', 'COP']\n",
      "11 ['CMA', 'IA', 'QMJ', 'ROE', 'RMW', 'SMB', 'REG', 'HML', 'MKTRF', 'HMLM', 'PEAD', 'dNCO', 'CLA', 'CP', 'IVOL']\n",
      "12 ['CMA', 'IA', 'QMJ', 'RMW', 'ROE', 'SMB', 'REG', 'HML', 'MKTRF', 'HMLM', 'PEAD', 'dNCO', 'CP', 'CLA', 'IVOL']\n",
      "13 ['CMA', 'IA', 'QMJ', 'RMW', 'ROE', 'SMB', 'HML', 'REG', 'MKTRF', 'HMLM', 'dNCO', 'PEAD', 'COP', 'CLA', 'CP']\n",
      "14 ['CMA', 'IA', 'QMJ', 'ROE', 'RMW', 'SMB', 'HML', 'REG', 'dNCO', 'MKTRF', 'HMLM', 'PEAD', 'COP', 'CLA', 'EP']\n"
     ]
    }
   ],
   "source": [
    "for knum in range(1,15):\n",
    "    U = np.linalg.svd(Z)[0][:,:knum]\n",
    "    # U = np.linalg.svd(np.hstack((Z,fama285)))[0][:,:knum]\n",
    "    chosen_set =[]\n",
    "    l2_distance = np.zeros(Z.shape[0])\n",
    "    Bhat = np.linalg.lstsq(U[:,:knum],Z, rcond=None)[0]\n",
    "    Mhat = U[:,:knum]@Bhat\n",
    "    l2_distance = np.linalg.norm(Mhat-Z,axis = 0)\n",
    "\n",
    "    chosen_num = heapq.nsmallest(100,l2_distance)\n",
    "    for t in chosen_num:\n",
    "        index = list(l2_distance).index(t)\n",
    "        chosen_set.append(index)\n",
    "        l2_distance[index]= -1\n",
    "    print(knum,list(dff100.columns[chosen_set])[:15])"
   ]
  },
  {
   "cell_type": "code",
   "execution_count": 41,
   "metadata": {},
   "outputs": [
    {
     "name": "stdout",
     "output_type": "stream",
     "text": [
      "14 ['PEAD', 'CMA', 'IA', 'REG', 'RMW', 'QMJ', 'ISFF1', 'ISq1', 'ROE', 'ETR', 'LTR', 'dFNL', 'NDF', 'dFIN', 'dII']\n"
     ]
    }
   ],
   "source": [
    "chosen_set=[]\n",
    "chosen_num = heapq.nsmallest(100,np.linalg.norm(Z,axis = 0))\n",
    "for t in chosen_num:\n",
    "    index = list(np.linalg.norm(Z,axis = 0)).index(t)\n",
    "    chosen_set.append(index)\n",
    "    np.linalg.norm(Z,axis = 0)[index]= -1\n",
    "print(knum,list(dff100.columns[chosen_set])[:15])"
   ]
  },
  {
   "cell_type": "code",
   "execution_count": 17,
   "metadata": {},
   "outputs": [
    {
     "name": "stdout",
     "output_type": "stream",
     "text": [
      "['QMJ', 'RMW', 'CMA', 'ROE', 'SMB', 'HML', 'REG', 'NEI1', 'MKTRF', 'dNCO', 'HMLM', 'PEAD']\n"
     ]
    }
   ],
   "source": [
    "\n",
    "knum=6\n",
    "\n",
    "chosen_set = choose_factor('TSMS', Z[:36*12], knum, train_size=600, svd_C =5, asset=[[None]],fix_true = None,fix_false = None,hyper_p = 0.00344)\n",
    "print(list(dff100.columns[chosen_set]))"
   ]
  },
  {
   "cell_type": "code",
   "execution_count": 4,
   "metadata": {},
   "outputs": [
    {
     "name": "stdout",
     "output_type": "stream",
     "text": [
      "['CP', 'MKTRF', 'ROE', 'dNCO', 'SMB', 'RMW', 'CMA', 'HMLM']\n"
     ]
    }
   ],
   "source": [
    "\n",
    "knum=7\n",
    "\n",
    "chosen_set = choose_factor('SGL', Z, knum, train_size=600, svd_C =0.5, asset=[[None]],fix_true = None,fix_false = None,hyper_p = 0.1)[0] \n",
    "print(list(dff100.columns[chosen_set]))\n"
   ]
  },
  {
   "cell_type": "code",
   "execution_count": 8,
   "metadata": {},
   "outputs": [
    {
     "name": "stdout",
     "output_type": "stream",
     "text": [
      "['CP', 'MKTRF', 'ROE', 'dNCO', 'SMB', 'RMW', 'HMLM', 'CMA']\n"
     ]
    }
   ],
   "source": [
    "\n",
    "knum=8\n",
    "\n",
    "chosen_set = choose_factor('SGL', Z, knum, train_size=600, svd_C =1, asset=[[None]],fix_true = None,fix_false = None,hyper_p = 0.1)[0] \n",
    "print(list(dff100.columns[chosen_set]))"
   ]
  },
  {
   "cell_type": "code",
   "execution_count": 15,
   "metadata": {},
   "outputs": [
    {
     "name": "stdout",
     "output_type": "stream",
     "text": [
      "['MKTRF', 'CP', 'ROE', 'RMW', 'SMB', 'CMA']\n"
     ]
    }
   ],
   "source": [
    "\n",
    "knum=6\n",
    "\n",
    "chosen_set = choose_factor('SGL', Z, knum, train_size=600, svd_C =1, asset=[[None]],fix_true = None,fix_false = None,hyper_p = 0.1)[0] \n",
    "print(list(dff100.columns[chosen_set]))"
   ]
  },
  {
   "cell_type": "code",
   "execution_count": 17,
   "metadata": {},
   "outputs": [
    {
     "name": "stdout",
     "output_type": "stream",
     "text": [
      "['MKTRF', 'SMB', 'CP', 'ROE', 'RMW', 'OCA']\n"
     ]
    }
   ],
   "source": [
    "\n",
    "knum=6\n",
    "chosen_set = choose_factor('SGL', Z[:36*12], knum, train_size=600, svd_C =1, asset=[[None]],fix_true = None,fix_false = None,hyper_p = 0.1)[0] \n",
    "print(list(dff100.columns[chosen_set]))"
   ]
  },
  {
   "cell_type": "markdown",
   "metadata": {},
   "source": [
    "['HML', 'HMLM', 'UMD', 'REG', 'SMB', 'STR', 'QMJ', 'PEAD']"
   ]
  },
  {
   "cell_type": "code",
   "execution_count": null,
   "metadata": {},
   "outputs": [
    {
     "name": "stdout",
     "output_type": "stream",
     "text": [
      "sr_best 0.527630221698155\n"
     ]
    },
    {
     "data": {
      "text/plain": [
       "['ILR1', 'HMLM', 'STR', 'REG', 'IVOL', 'PEAD']"
      ]
     },
     "execution_count": 10,
     "metadata": {},
     "output_type": "execute_result"
    }
   ],
   "source": [
    "Z=dff100.values\n",
    "list(dff100.columns[sr_best(Z,lambda_val = 0.05, sigma = 500, T = 10000)])"
   ]
  },
  {
   "cell_type": "markdown",
   "metadata": {},
   "source": [
    "['ILR1', 'ME', 'OPE', 'HMLM', 'QMJ', 'STR', 'REG', 'IVOL', 'PEAD']    9   0.6428852356823308\n",
    "['ILR1', 'SMB', 'HMLM', 'QMJ', 'STR', 'REG', 'IVOL', 'PEAD']          8   0.61,\n",
    "['ILR1', 'SMB', 'HMLM', 'STR', 'REG', 'IVOL', 'PEAD']                 7   0.58\n",
    "['ILR1', 'HMLM', 'STR', 'REG', 'IVOL', 'PEAD']                        6   0.52\n",
    "<!-- ['SMB', 'HMLM', 'REG', 'IVOL', 'PEAD']                                5   0.062 -->\n"
   ]
  },
  {
   "cell_type": "code",
   "execution_count": 3,
   "metadata": {},
   "outputs": [
    {
     "name": "stdout",
     "output_type": "stream",
     "text": [
      "['CMA', 'QMJ', 'RMW']\n",
      "['CMA', 'IA', 'RMW', 'ROE', 'QMJ', 'HML']\n",
      "sr 0.0743368489396819\n"
     ]
    }
   ],
   "source": [
    "\n",
    "knum=6\n",
    "dfff = dff99\n",
    "Z = np.float64(dfff)\n",
    "\n",
    "chosen_set = choose_factor('TSMS', Z, knum, train_size=600, svd_C = 0.4, asset=[[None]],fix_true = None,fix_false = None,hyper_p = 0.000001)\n",
    "print(list(dff99.columns[chosen_set]))\n",
    "\n",
    "n,p=Z.shape\n",
    "U = get_U(Z, knum)\n",
    "chosen_set =[]\n",
    "l2_distance = np.zeros(p)\n",
    "Bhat = np.linalg.lstsq(U[:,:knum],Z, rcond=None)[0]\n",
    "Mhat = U[:,:knum]@Bhat\n",
    "l2_distance = np.linalg.norm(Mhat-Z,axis = 0)\n",
    "chosen_num = heapq.nsmallest(knum,l2_distance)          \n",
    "for t in chosen_num:\n",
    "    index = list(l2_distance).index(t)\n",
    "    chosen_set.append(index)\n",
    "    l2_distance[index]= -1 \n",
    "print(list(dff99.columns[chosen_set]))\n",
    "mu = np.mean(Z, axis=0)\n",
    "Sigma = np.cov(Z.T)\n",
    "wt = np.linalg.solve(Sigma[chosen_set][:, chosen_set], mu[chosen_set])\n",
    "print('sr',sr(wt, mu[chosen_set], Sigma[chosen_set][:, chosen_set]))"
   ]
  },
  {
   "cell_type": "code",
   "execution_count": 15,
   "metadata": {},
   "outputs": [
    {
     "name": "stdout",
     "output_type": "stream",
     "text": [
      "['IVOL', 'EBP', 'HMLM', 'CMA', 'ROE']\n",
      "sr 0.1030643734614219\n"
     ]
    }
   ],
   "source": [
    "knum=5\n",
    "dfff = dff99\n",
    "Z = np.float64(dfff)\n",
    "chosen_set = choose_factor('SGL', Z, knum, train_size=600, svd_C = 0.4, asset=[[None]],fix_true = None,fix_false = None,hyper_p = 0.1) \n",
    "print(list(dff99.columns[chosen_set]))\n",
    "mu = np.mean(Z, axis=0)\n",
    "Sigma = np.cov(Z.T)\n",
    "wt = np.linalg.solve(Sigma[chosen_set][:, chosen_set], mu[chosen_set])\n",
    "print('sr',sr(wt, mu[chosen_set], Sigma[chosen_set][:, chosen_set]))"
   ]
  },
  {
   "cell_type": "code",
   "execution_count": 11,
   "metadata": {},
   "outputs": [
    {
     "name": "stdout",
     "output_type": "stream",
     "text": [
      "['IVOL', 'FIN', 'EBP', 'CMA', 'HML'] 5\n",
      "sr 0.0459122220747156\n"
     ]
    }
   ],
   "source": [
    "\n",
    "knum=5\n",
    "dfff = dff99\n",
    "Z = np.float64(dfff)\n",
    "chosen_set,nonzero = choose_factor('DGL', Z, knum, train_size=600, svd_C =0.7, asset=[[None]],fix_true = None,fix_false = None,hyper_p = 0.1)\n",
    "print(list(dff99.columns[chosen_set]),nonzero)\n",
    "mu = np.mean(Z, axis=0)\n",
    "Sigma = np.cov(Z.T)\n",
    "wt = np.linalg.solve(Sigma[chosen_set][:, chosen_set], mu[chosen_set])\n",
    "print('sr',sr(wt, mu[chosen_set], Sigma[chosen_set][:, chosen_set]))"
   ]
  },
  {
   "cell_type": "code",
   "execution_count": 5,
   "metadata": {},
   "outputs": [
    {
     "name": "stdout",
     "output_type": "stream",
     "text": [
      "['CP', 'ROE', 'MKTRF', 'HMLM', 'RMW', 'CMA']\n"
     ]
    }
   ],
   "source": [
    "\n",
    "knum=6\n",
    "\n",
    "chosen_set = choose_factor('SGL', Z, knum, train_size=600, svd_C =0.5, asset=[[None]],fix_true = None,fix_false = None,hyper_p = 0.1)[0] \n",
    "print(list(dff100.columns[chosen_set]))"
   ]
  },
  {
   "cell_type": "code",
   "execution_count": 22,
   "metadata": {},
   "outputs": [
    {
     "name": "stdout",
     "output_type": "stream",
     "text": [
      "['CMA', 'QMJ', 'ROE', 'RMW', 'SMB', 'HML', 'REG', 'MKTRF', 'PEAD']\n"
     ]
    }
   ],
   "source": [
    "\n",
    "knum=6\n",
    "\n",
    "chosen_set = choose_factor('TSMS', Z, knum, train_size=600, svd_C =5, asset=[[None]],fix_true = None,fix_false = None,hyper_p = 0.000004)\n",
    "print(list(dff100.columns[chosen_set]))"
   ]
  },
  {
   "cell_type": "code",
   "execution_count": null,
   "metadata": {},
   "outputs": [],
   "source": [
    "np.array(dff100.columns)[np.argsort(1/alpha_z_score)]"
   ]
  },
  {
   "cell_type": "code",
   "execution_count": 37,
   "metadata": {},
   "outputs": [
    {
     "name": "stdout",
     "output_type": "stream",
     "text": [
      "sr_best 0.7888750152629006\n",
      "['ILR1', 'STR', 'REG', 'IVOL', 'PEAD']\n",
      "sr 0.7888750152629014\n"
     ]
    }
   ],
   "source": [
    "Z=Z[:36*12]\n",
    "Znorm = normalize_columns(Z)\n",
    "chosen_set = sr_best(Znorm,lambda_val = 0.075, sigma = 500, T = 10000)\n",
    "print(list(dff100.columns[chosen_set]))\n",
    "mu = np.mean(Z, axis=0)\n",
    "Sigma = np.cov(Z.T)\n",
    "wt = np.linalg.solve(Sigma[chosen_set][:, chosen_set], mu[chosen_set])\n",
    "print('sr',sr(wt, mu[chosen_set], Sigma[chosen_set][:, chosen_set]))"
   ]
  },
  {
   "cell_type": "code",
   "execution_count": null,
   "metadata": {},
   "outputs": [],
   "source": [
    "Znorm = normalize_columns(Z)\n",
    "chosen_set = sr_best(Znorm,lambda_val = 0.055, sigma = 500, T = 10000)\n",
    "print(list(dff100.columns[chosen_set]))\n",
    "mu = np.mean(Z, axis=0)\n",
    "Sigma = np.cov(Z.T)\n",
    "wt = np.linalg.solve(Sigma[chosen_set][:, chosen_set], mu[chosen_set])\n",
    "print('sr',sr(wt, mu[chosen_set], Sigma[chosen_set][:, chosen_set]))"
   ]
  },
  {
   "cell_type": "code",
   "execution_count": 43,
   "metadata": {},
   "outputs": [
    {
     "name": "stdout",
     "output_type": "stream",
     "text": [
      "[38, 78, 81, 87, 89, 90]\n",
      "sr 0.46920507593787697\n"
     ]
    }
   ],
   "source": [
    "set = np.array(['ILR1', 'SMB', 'CMA', 'STR', 'REG', 'IVOL'])\n",
    "chosen_set =[]\n",
    "for i in set:\n",
    "    chosen_set.append(list(dff99.columns).index(i))\n",
    "print(chosen_set)\n",
    "mu = np.mean(Z, axis=0)\n",
    "Sigma = np.cov(Z.T)\n",
    "wt = np.linalg.solve(Sigma[chosen_set][:, chosen_set], mu[chosen_set])\n",
    "print('sr',sr(wt, mu[chosen_set], Sigma[chosen_set][:, chosen_set]))"
   ]
  },
  {
   "cell_type": "markdown",
   "metadata": {},
   "source": [
    "# r2"
   ]
  },
  {
   "cell_type": "code",
   "execution_count": 17,
   "metadata": {},
   "outputs": [
    {
     "name": "stdout",
     "output_type": "stream",
     "text": [
      "[8, 77, 78, 93, 84, 80, 81] check_press1  0.5865354935399992 [8, 93, 46, 80, 78, 77] check_press2 0.6205049450965007\n",
      "knum 7 [8, 77, 78, 93, 84, 80, 81]\n",
      "[8, 77, 84, 46, 93, 78, 80, 19] check_press1  0.5695823176378378 [8, 77, 78, 93, 84, 80, 81] check_press2 0.5842009259474265\n",
      "knum 8 [8, 77, 84, 46, 93, 78, 80, 19]\n",
      "[8, 77, 93, 78, 80, 19, 84, 13, 87] check_press1  0.5537888152594844 [8, 77, 84, 46, 93, 78, 80, 19] check_press2 0.5629268734691454\n",
      "knum 9 [8, 77, 93, 78, 80, 19, 84, 13, 87]\n",
      "[8, 77, 93, 19, 78, 80, 84, 87, 2, 13] check_press1  0.540993964052219 [8, 77, 93, 78, 80, 19, 84, 13, 87] check_press2 0.5503733856931241\n",
      "knum 10 [8, 77, 93, 19, 78, 80, 84, 87, 2, 13]\n",
      "[8, 77, 78, 80, 93, 19, 13, 69, 84, 46, 87] check_press1  0.5389785426068919 [8, 77, 93, 19, 78, 80, 84, 87, 2, 13] check_press2 0.5489519980474443\n",
      "knum 11 [8, 77, 78, 80, 93, 19, 13, 69, 84, 46, 87]\n",
      "[77, 8, 78, 80, 19, 83, 69, 13, 61, 82, 53, 54] check_press1  0.5166441424350047 [8, 77, 78, 80, 93, 19, 13, 69, 84, 46, 87] check_press2 0.538714144329201\n",
      "knum 12 [77, 8, 78, 80, 19, 83, 69, 13, 61, 82, 53, 54]\n",
      "[77, 8, 78, 80, 19, 83, 69, 13, 61, 82, 53, 54] check_press1  0.5086325130282507 [77, 8, 78, 80, 19, 83, 69, 13, 61, 82, 53, 54] check_press2 0.5086325130282507\n",
      "knum 13 [77, 8, 78, 80, 19, 83, 69, 13, 61, 82, 53, 54]\n",
      "[77, 8, 78, 80, 19, 83, 69, 13, 61, 82, 53, 54] check_press1  0.5086325130282507 [77, 8, 78, 80, 19, 83, 69, 13, 61, 82, 53, 54] check_press2 0.5086325130282507\n",
      "knum 14 [77, 8, 78, 80, 19, 83, 69, 13, 61, 82, 53, 54]\n",
      "['MKTRF', 'CP', 'SMB', 'RMW', 'dNCO', 'HMLM', 'ROE1', 'dFIN', 'P52W6', 'UMD', 'OA', 'OCA']\n"
     ]
    }
   ],
   "source": [
    "chosen_set = []\n",
    "# print(df['Unnamed: 0'][year_i*12])\n",
    "dfff = dff99[:37*12]\n",
    "knum=6\n",
    "Z = np.float64(dfff)\n",
    "chosen_set = choose_factor('SGL', Z, knum, train_size=600, svd_C = 0.4, asset=[[None]],fix_true = None,fix_false = None,hyper_p = 0.1)[0] \n",
    "print(list(dff96.columns[chosen_set]))"
   ]
  },
  {
   "cell_type": "code",
   "execution_count": null,
   "metadata": {},
   "outputs": [],
   "source": [
    "chosen_set = []\n",
    "# print(df['Unnamed: 0'][year_i*12])\n",
    "dfff = dff99[:37*12]\n",
    "knum=6\n",
    "Z = np.float64(dfff)\n",
    "chosen_set = choose_factor('DGL', Z, knum, train_size=600, svd_C = 5, asset=[[None]],fix_true = None,fix_false = None,hyper_p = 0.1)[0] \n",
    "print(list(dff96.columns[chosen_set]))"
   ]
  },
  {
   "cell_type": "code",
   "execution_count": 25,
   "metadata": {},
   "outputs": [],
   "source": [
    "chosen_set = []\n",
    "# print(df['Unnamed: 0'][year_i*12])\n",
    "dfff = dff99[:37*12]\n",
    "knum=6\n",
    "Z = np.float64(dfff)\n",
    "chosen_set = choose_factor('TSMS', Z, knum, train_size=600, svd_C = 5, asset=[[None]],fix_true = None,fix_false = None,hyper_p = 0.1)[0] \n",
    "print(list(dff96.columns[chosen_set]))\n",
    "              "
   ]
  },
  {
   "cell_type": "code",
   "execution_count": null,
   "metadata": {},
   "outputs": [],
   "source": []
  },
  {
   "cell_type": "code",
   "execution_count": 26,
   "metadata": {},
   "outputs": [
    {
     "data": {
      "text/plain": [
       "0.6268398740169722"
      ]
     },
     "execution_count": 26,
     "metadata": {},
     "output_type": "execute_result"
    }
   ],
   "source": [
    "setk=10\n",
    "U,sigma,VT = np.linalg.svd(Z)\n",
    "reg = LinearRegression().fit(U[:,:setk], Z)\n",
    "reg.score(U[:,:setk], Z)"
   ]
  },
  {
   "cell_type": "code",
   "execution_count": 14,
   "metadata": {},
   "outputs": [
    {
     "data": {
      "text/plain": [
       "array([ 0.00707534,  0.00231212,  0.00446305,  0.00382045,  0.00533315,\n",
       "        0.00785487,  0.00572824,  0.00653264,  0.0035134 ,  0.00342514,\n",
       "        0.00430404,  0.00259617,  0.00220305,  0.0021891 ,  0.00254454,\n",
       "        0.00238572,  0.00308919,  0.0036078 ,  0.00348957,  0.00415753,\n",
       "        0.0020704 ,  0.00386033,  0.00505746,  0.00774528,  0.002965  ,\n",
       "        0.00398816,  0.00265028,  0.00403639,  0.00291563,  0.00677121,\n",
       "        0.00204611,  0.00217358,  0.00394892,  0.00273785,  0.00440697,\n",
       "        0.00497336,  0.00575127,  0.00635139,  0.00528081,  0.00297213,\n",
       "        0.00299435,  0.00296032,  0.00372792,  0.00292938,  0.0044495 ,\n",
       "        0.00133462,  0.00242422,  0.00262828,  0.00531244,  0.00505446,\n",
       "        0.00260956,  0.00572203,  0.00539872,  0.00414468,  0.00626447,\n",
       "        0.00364873,  0.00495592,  0.00265244,  0.00478639,  0.00467239,\n",
       "        0.00418247,  0.00380409,  0.00531266,  0.00373274,  0.00531071,\n",
       "        0.00571424,  0.00687615,  0.00390238,  0.00334293,  0.00737577,\n",
       "        0.00445903,  0.0026403 ,  0.00310939,  0.00261553,  0.00620255,\n",
       "        0.00193333,  0.00276395,  0.00294677,  0.00297245,  0.00611003,\n",
       "        0.00301172,  0.00390805,  0.00861717,  0.00397366,  0.00442483,\n",
       "        0.00171463,  0.0079688 ,  0.00624133,  0.00441056,  0.0033564 ,\n",
       "        0.0052841 ,  0.01018679,  0.00438469, -0.00129388,  0.0060733 ,\n",
       "        0.00691122])"
      ]
     },
     "execution_count": 14,
     "metadata": {},
     "output_type": "execute_result"
    }
   ],
   "source": [
    "dfff = dff96\n",
    "Z = np.float64(dfff)\n",
    "np.mean(Z,axis =0)"
   ]
  },
  {
   "cell_type": "code",
   "execution_count": 28,
   "metadata": {},
   "outputs": [
    {
     "data": {
      "text/plain": [
       "0.17534681054355186"
      ]
     },
     "execution_count": 28,
     "metadata": {},
     "output_type": "execute_result"
    }
   ],
   "source": [
    "randZ = np.random.uniform(0,1,[588,96])\n",
    "randZ = randZ / np.linalg.norm(randZ,axis=0)\n",
    "randU = np.linalg.svd(randZ)[0]\n",
    "reg = LinearRegression().fit(randU[:,:setk], randZ)\n",
    "reg.score(randU[:,:setk], randZ)"
   ]
  },
  {
   "cell_type": "code",
   "execution_count": 3,
   "metadata": {},
   "outputs": [
    {
     "name": "stdout",
     "output_type": "stream",
     "text": [
      "[2.9629634  1.7064634  1.50044508 1.06155935 0.88392059 0.77513309\n",
      " 0.746425   0.68369228 0.63103435 0.62250001 0.51092538 0.45133898\n",
      " 0.44972759 0.42094015 0.38554057 0.35366322 0.33131367 0.31466391\n",
      " 0.24852176 0.22018885 0.18968446 0.12980229]\n"
     ]
    }
   ],
   "source": [
    "\n",
    "print(np.linalg.svd(np.float64(dff22))[1])"
   ]
  },
  {
   "cell_type": "code",
   "execution_count": 4,
   "metadata": {},
   "outputs": [
    {
     "name": "stdout",
     "output_type": "stream",
     "text": [
      "[5.04355838 4.22740336 2.4409114  2.09390884 1.85750755 1.80066235\n",
      " 1.67782418 1.51514513 1.36592519 1.26309634 1.19131971 1.14319727\n",
      " 1.09992599 1.06715817 1.01513829 0.99429664 0.96039329 0.93461889\n",
      " 0.8986252  0.88476354 0.84340006 0.82461049 0.80245866 0.79979114\n",
      " 0.7855497  0.76412995 0.757188   0.72861912 0.72689576 0.70243802\n",
      " 0.69357994 0.68495216 0.67191647 0.65385175 0.64323875 0.63261569\n",
      " 0.60745575 0.59275056 0.5881839  0.5711193  0.55851278 0.55444377\n",
      " 0.54658709 0.54047927 0.52756159 0.52271178 0.51246524 0.4970798\n",
      " 0.4847282  0.4783127  0.47303922 0.46735393 0.45283427 0.44806455\n",
      " 0.44218104 0.42805258 0.4157231  0.4101394  0.39810834 0.39709699\n",
      " 0.39213594 0.38873618 0.38430545 0.37956037 0.36594853 0.36163097\n",
      " 0.35428527 0.34907927 0.34122884 0.33396796 0.3175489  0.31313873\n",
      " 0.31200098 0.3043671  0.30324559 0.29919619 0.28506509 0.28188974\n",
      " 0.27521426 0.27447869 0.25993114 0.2513626  0.24563984 0.24157664\n",
      " 0.23304549 0.22696124 0.22187755 0.21929279 0.20623509 0.19870796\n",
      " 0.18251503 0.177752   0.15723194 0.15382403 0.14493521 0.1089786 ]\n"
     ]
    }
   ],
   "source": [
    "print(np.linalg.svd(np.float64(dff96))[1])"
   ]
  },
  {
   "cell_type": "code",
   "execution_count": null,
   "metadata": {},
   "outputs": [],
   "source": [
    "print(np.linalg.svd(np.float64(dff105))[1])"
   ]
  },
  {
   "cell_type": "code",
   "execution_count": 25,
   "metadata": {},
   "outputs": [
    {
     "name": "stdout",
     "output_type": "stream",
     "text": [
      "0.001\n",
      "['HMLM', 'CMA', 'IA', 'IMD']\n",
      "0.011473684210526316\n",
      "['HMLM', 'CMA', 'IA', 'IMD']\n",
      "0.021947368421052632\n",
      "['HMLM', 'CMA', 'IA', 'IMD']\n",
      "0.03242105263157895\n",
      "['HMLM', 'CMA', 'IA', 'IMD']\n",
      "0.04289473684210526\n",
      "['HMLM', 'CMA', 'IA', 'IMD']\n",
      "0.05336842105263158\n",
      "['HMLM', 'CMA', 'IA', 'IMD']\n",
      "0.0638421052631579\n",
      "['HMLM', 'CMA', 'IA', 'IMD']\n",
      "0.07431578947368421\n",
      "['HMLM', 'CMA', 'IA', 'IMD']\n",
      "0.08478947368421053\n",
      "['HMLM', 'CMA', 'IA', 'IMD']\n",
      "0.09526315789473684\n",
      "['HMLM', 'CMA', 'IA', 'IMD']\n",
      "0.10573684210526316\n",
      "[array(['MKTRF', 'SMB', 'HML', 'RMW', 'CMA', 'UMD', 'HMLM', 'QMJ', 'BAB',\n",
      "       'LIQ', 'STR', 'LTR', 'REG', 'IVOL', 'SUE', 'IA', 'ROE', 'IMD',\n",
      "       'NI', 'BETA', 'PEAD', 'FIN'], dtype=object)]\n",
      "0.11621052631578947\n",
      "[array(['MKTRF', 'SMB', 'HML', 'RMW', 'CMA', 'UMD', 'HMLM', 'QMJ', 'BAB',\n",
      "       'LIQ', 'STR', 'LTR', 'REG', 'IVOL', 'SUE', 'IA', 'ROE', 'IMD',\n",
      "       'NI', 'BETA', 'PEAD', 'FIN'], dtype=object)]\n",
      "0.1266842105263158\n",
      "[array(['MKTRF', 'SMB', 'HML', 'RMW', 'CMA', 'UMD', 'HMLM', 'QMJ', 'BAB',\n",
      "       'LIQ', 'STR', 'LTR', 'REG', 'IVOL', 'SUE', 'IA', 'ROE', 'IMD',\n",
      "       'NI', 'BETA', 'PEAD', 'FIN'], dtype=object)]\n",
      "0.1371578947368421\n",
      "[array(['MKTRF', 'SMB', 'HML', 'RMW', 'CMA', 'UMD', 'HMLM', 'QMJ', 'BAB',\n",
      "       'LIQ', 'STR', 'LTR', 'REG', 'IVOL', 'SUE', 'IA', 'ROE', 'IMD',\n",
      "       'NI', 'BETA', 'PEAD', 'FIN'], dtype=object)]\n",
      "0.14763157894736842\n",
      "[array(['MKTRF', 'SMB', 'HML', 'RMW', 'CMA', 'UMD', 'HMLM', 'QMJ', 'BAB',\n",
      "       'LIQ', 'STR', 'LTR', 'REG', 'IVOL', 'SUE', 'IA', 'ROE', 'IMD',\n",
      "       'NI', 'BETA', 'PEAD', 'FIN'], dtype=object)]\n",
      "0.15810526315789475\n",
      "[array(['MKTRF', 'SMB', 'HML', 'RMW', 'CMA', 'UMD', 'HMLM', 'QMJ', 'BAB',\n",
      "       'LIQ', 'STR', 'LTR', 'REG', 'IVOL', 'SUE', 'IA', 'ROE', 'IMD',\n",
      "       'NI', 'BETA', 'PEAD', 'FIN'], dtype=object)]\n",
      "0.16857894736842105\n",
      "[array(['MKTRF', 'SMB', 'HML', 'RMW', 'CMA', 'UMD', 'HMLM', 'QMJ', 'BAB',\n",
      "       'LIQ', 'STR', 'LTR', 'REG', 'IVOL', 'SUE', 'IA', 'ROE', 'IMD',\n",
      "       'NI', 'BETA', 'PEAD', 'FIN'], dtype=object)]\n",
      "0.17905263157894735\n",
      "[array(['MKTRF', 'SMB', 'HML', 'RMW', 'CMA', 'UMD', 'HMLM', 'QMJ', 'BAB',\n",
      "       'LIQ', 'STR', 'LTR', 'REG', 'IVOL', 'SUE', 'IA', 'ROE', 'IMD',\n",
      "       'NI', 'BETA', 'PEAD', 'FIN'], dtype=object)]\n",
      "0.18952631578947368\n",
      "[array(['MKTRF', 'SMB', 'HML', 'RMW', 'CMA', 'UMD', 'HMLM', 'QMJ', 'BAB',\n",
      "       'LIQ', 'STR', 'LTR', 'REG', 'IVOL', 'SUE', 'IA', 'ROE', 'IMD',\n",
      "       'NI', 'BETA', 'PEAD', 'FIN'], dtype=object)]\n",
      "0.2\n",
      "[array(['MKTRF', 'SMB', 'HML', 'RMW', 'CMA', 'UMD', 'HMLM', 'QMJ', 'BAB',\n",
      "       'LIQ', 'STR', 'LTR', 'REG', 'IVOL', 'SUE', 'IA', 'ROE', 'IMD',\n",
      "       'NI', 'BETA', 'PEAD', 'FIN'], dtype=object)]\n"
     ]
    }
   ],
   "source": [
    "chosen_set = []\n",
    "# print(df['Unnamed: 0'][year_i*12])\n",
    "knum=9\n",
    "# dfff = dff22[:36*12]\n",
    "dfff = dff22\n",
    "Z = np.float64(dfff)\n",
    "hyper_p_list = np.linspace(0.001, 0.2, 20)\n",
    "for i in hyper_p_list:\n",
    "    print(i)\n",
    "    chosen_set = choose_factor('TSMS', Z, knum, train_size=600, svd_C = 0.4, asset=[[None]],fix_true = None,fix_false = None,hyper_p = i)\n",
    "    print(list(dff22.columns[chosen_set]))\n",
    "    "
   ]
  },
  {
   "cell_type": "code",
   "execution_count": 16,
   "metadata": {},
   "outputs": [
    {
     "name": "stdout",
     "output_type": "stream",
     "text": [
      "['QMJ', 'IA', 'RMW', 'ROE', 'HML', 'REG', 'SMB', 'MKTRF', 'NEI1', 'HMLM', 'CLA']\n"
     ]
    }
   ],
   "source": [
    "chosen_set = []\n",
    "# print(df['Unnamed: 0'][year_i*12])\n",
    "knum=9\n",
    "# dfff = dff22[:36*12]\n",
    "dfff = dff96[:36*12]\n",
    "Z = np.float64(dfff)\n",
    "\n",
    "# hyper_p_list = np.linspace(0.001, 0.1, 20)\n",
    "hyper_p_list = [0.001]\n",
    "chosen_set = choose_factor('TSMS', Z, knum, train_size=600, svd_C = 0.4, asset=[[None]],fix_true = None,fix_false = None,hyper_p = 0.004)\n",
    "print(list(dff96.columns[chosen_set]))"
   ]
  },
  {
   "cell_type": "code",
   "execution_count": null,
   "metadata": {},
   "outputs": [],
   "source": [
    "chosen_set = choose_factor('TSMS', Z, knum, train_size=600, svd_C = 0.4, asset=[[None]],fix_true = None,fix_false = None,hyper_p = 0.01)\n"
   ]
  },
  {
   "cell_type": "code",
   "execution_count": 5,
   "metadata": {},
   "outputs": [
    {
     "data": {
      "text/plain": [
       "Abr1    0.007075\n",
       "ACI     0.002312\n",
       "ATO     0.004463\n",
       "BM      0.003820\n",
       "CEI     0.005333\n",
       "          ...   \n",
       "IMD     0.010187\n",
       "NI      0.004385\n",
       "BETA   -0.001294\n",
       "PEAD    0.006073\n",
       "FIN     0.006911\n",
       "Length: 96, dtype: float64"
      ]
     },
     "execution_count": 5,
     "metadata": {},
     "output_type": "execute_result"
    }
   ],
   "source": [
    "np.mean(dff96)"
   ]
  },
  {
   "cell_type": "code",
   "execution_count": 7,
   "metadata": {},
   "outputs": [],
   "source": [
    "# np.cumsum(np.linalg.svd(np.float64(dff96))[1])\n",
    "dff96=np.float64(dff96)"
   ]
  },
  {
   "cell_type": "code",
   "execution_count": null,
   "metadata": {},
   "outputs": [],
   "source": [
    "# excess_returns = returns - risk_free_rate\n",
    "# mean_excess_return = np.mean(dff96)\n",
    "# std_excess_return = np.std(excess_returns)\n",
    "sharpe_ratio = np.mean(dff96,axis=0) / np.std(dff96,axis=0)\n",
    "dataframe=pd.DataFrame({'Column1': df96.columns[1:], 'Column2': sharpe_ratio})\n",
    "pd.set_option('display.max_rows', None)\n",
    "pd.set_option('display.max_columns', None)\n",
    "pd.set_option('display.width', None)\n",
    "print(dataframe.sort_values('Column2'))\n",
    "# for i in range(1,len(df96.columns)-1):\n",
    "#     print(df96.columns[i],sharpe_ratio[i])\n",
    "    "
   ]
  },
  {
   "cell_type": "code",
   "execution_count": 35,
   "metadata": {},
   "outputs": [
    {
     "data": {
      "image/png": "[encoded data removed]",
      "text/plain": [
       "<Figure size 800x600 with 2 Axes>"
      ]
     },
     "metadata": {},
     "output_type": "display_data"
    }
   ],
   "source": [
    "import seaborn as sns\n",
    "import matplotlib.pyplot as plt\n",
    "\n",
    "corr_matrix =np.abs(dff99[np.array(dff99.columns)[np.argsort(np.linalg.norm((dff99.corr()),axis=0))]].corr())[-20:]\n",
    "plt.figure(figsize=(8, 6))\n",
    "sns.heatmap(corr_matrix, cmap='coolwarm')\n",
    "plt.title('Correlation Matrix')\n",
    "plt.show()"
   ]
  },
  {
   "cell_type": "code",
   "execution_count": 40,
   "metadata": {},
   "outputs": [
    {
     "data": {
      "text/plain": [
       "ETR          5.154312\n",
       "LIQ          6.128016\n",
       "RER          8.145797\n",
       "SIM1         8.453777\n",
       "ISFF1        8.572172\n",
       "Resid111     9.599413\n",
       "ACI          9.920100\n",
       "ILR1        10.270337\n",
       "ETL         10.415037\n",
       "r1a         10.745013\n",
       "ISq1        10.933965\n",
       "OA          10.937432\n",
       "CIM1        11.141193\n",
       "PDA         12.024355\n",
       "dWC         12.655801\n",
       "Abr1        12.809260\n",
       "dROA1       13.483340\n",
       "DAC         13.710853\n",
       "OL          14.154633\n",
       "dFNL        14.445500\n",
       "HS          14.731356\n",
       "dFIN        14.839079\n",
       "PEAD        15.205542\n",
       "NDF         15.232537\n",
       "STR         15.245538\n",
       "IM1         15.336148\n",
       "IOCA        15.354295\n",
       "NOA         15.360335\n",
       "IVC         15.523387\n",
       "ILE1        15.693559\n",
       "CTO         16.250170\n",
       "IG          16.467253\n",
       "dLNO        16.601722\n",
       "dROE1       16.772358\n",
       "BAB         16.801647\n",
       "IMD         16.843503\n",
       "dNCA        17.828345\n",
       "dNCO        18.275863\n",
       "OCA         18.898357\n",
       "GPA         18.908199\n",
       "dPIA        18.956801\n",
       "dII         19.040390\n",
       "UMD         19.177185\n",
       "IVG         19.430203\n",
       "TA          19.519629\n",
       "POA         19.827434\n",
       "MKTRF       21.161769\n",
       "LTR         21.888091\n",
       "NI          21.991073\n",
       "PTA         22.221032\n",
       "dNOA        22.374866\n",
       "SMB         22.604000\n",
       "ATO         22.766696\n",
       "RMW         22.780487\n",
       "ME          22.966455\n",
       "SGq1        23.258772\n",
       "SUE         24.050605\n",
       "VHP         24.242651\n",
       "dCOA        24.298853\n",
       "EPRD        24.435520\n",
       "RS1         24.625395\n",
       "OLEq1       24.636566\n",
       "EM          24.655499\n",
       "Dur         24.689848\n",
       "NEI1        25.084111\n",
       "OPE         25.426519\n",
       "dBE         25.443799\n",
       "EP          25.452630\n",
       "OP          25.553618\n",
       "REG         25.639568\n",
       "OPA         25.743563\n",
       "DP          25.775163\n",
       "CLA         26.292967\n",
       "SP          26.340979\n",
       "ROE         26.658428\n",
       "NOP         26.675173\n",
       "COP         27.256476\n",
       "ROE1        27.349203\n",
       "QMJ         27.414724\n",
       "OCP         27.679646\n",
       "IA          27.726686\n",
       "ROA1        27.757481\n",
       "CMA         27.802186\n",
       "IR          27.847450\n",
       "CP          27.946236\n",
       "P52W6       27.965074\n",
       "CEI         28.146618\n",
       "BM          28.151458\n",
       "HML         28.300646\n",
       "BETA        28.466052\n",
       "HMLM        28.515774\n",
       "TV1         29.146610\n",
       "IVOL        29.498865\n",
       "EBP         29.573856\n",
       "IVq1        29.626595\n",
       "FIN         30.732520\n",
       "dtype: float64"
      ]
     },
     "execution_count": 40,
     "metadata": {},
     "output_type": "execute_result"
    }
   ],
   "source": [
    "np.sum(np.abs(corr_matrix),axis=1).sort_values()"
   ]
  },
  {
   "cell_type": "code",
   "execution_count": 51,
   "metadata": {},
   "outputs": [
    {
     "name": "stdout",
     "output_type": "stream",
     "text": [
      "[ 1.16544154e+00  7.96222846e-02 -7.94041986e+00  1.06727938e+00\n",
      " -4.19788926e+00  1.55550413e+00 -2.06556846e+00 -5.93910441e+00\n",
      " -1.93253973e+00  4.37504478e+00  1.56339765e+00 -8.40971678e-01\n",
      "  1.33284596e+00 -6.07455621e+00  7.76977750e+00  6.88715768e-01\n",
      " -7.63275832e+00  4.09362340e+00  1.44992453e+00  1.50450240e+00\n",
      "  2.59057860e+00  3.38017581e+00  4.52830348e-01  1.81426833e+00\n",
      " -1.04323096e+00  1.15123222e+00  2.15118303e+00  2.82214482e+00\n",
      " -5.46099614e+00 -4.16495277e+00  3.28409001e+00  4.89331318e+00\n",
      " -3.45690354e+00  1.72729681e+00 -1.16867014e+00 -1.55535045e+00\n",
      "  8.32821901e-01 -2.49302390e+00  4.43453765e+00 -9.37302887e-01\n",
      "  2.92995777e+00 -4.93260254e+00 -4.63081579e+00 -4.60641791e-01\n",
      "  7.87986603e+00  4.77026672e-01 -4.98947339e+00  5.47678501e+00\n",
      " -5.12029967e+00 -2.17638972e-01 -4.82312233e+00  3.38999742e+00\n",
      " -1.69207165e+00  2.14318509e+00  3.85674329e+00 -2.52075954e+00\n",
      "  6.90458187e+00 -1.02154146e+01 -7.92364383e+00 -2.81247291e-01\n",
      "  7.83453001e+00 -6.40675442e-01 -1.64302961e+00 -4.00213059e-01\n",
      "  1.21064515e+00  2.94338241e-02  4.39756258e+00  1.71188490e+00\n",
      "  1.62000372e+00 -1.92700071e+00  7.94723507e+00  3.77265927e-01\n",
      " -2.51554591e+00  6.04167813e+00  2.81648619e+02  1.29643390e+02\n",
      "  1.36059593e+01  4.73514925e+00  4.51330446e-01 -2.95832954e+00\n",
      "  8.30703029e+00  4.57436864e+00  7.37971768e+00  2.89816737e+00\n",
      "  4.34523877e+00  4.88855318e-01  6.56316149e+00 -2.62941467e+00\n",
      " -1.35487371e+00 -3.17350033e+00 -5.68715376e+00  1.07088615e+00\n",
      "  3.22871537e+00 -7.08792749e+00  1.30216884e+00  2.78714862e-01]\n"
     ]
    }
   ],
   "source": [
    "Y= np.array(fama285)\n",
    "X = np.array(dff96)\n",
    "print(np.sum(np.linalg.inv(X.T @ X) @ X.T @ Y, axis=1))"
   ]
  },
  {
   "cell_type": "code",
   "execution_count": 53,
   "metadata": {},
   "outputs": [
    {
     "name": "stdout",
     "output_type": "stream",
     "text": [
      "     Column1    Column2\n",
      "69      SIM1   0.315120\n",
      "62       r1a   0.319499\n",
      "5       CIM1   0.323672\n",
      "36      ILR1   0.352817\n",
      "37       IM1   0.366161\n",
      "35      ILE1   0.400374\n",
      "63       RER   0.476191\n",
      "83       LIQ   0.498960\n",
      "64  Resid111   0.528254\n",
      "1        ACI   0.542522\n",
      "91       IMD   0.545813\n",
      "39        IR   0.583246\n",
      "22     dROA1   0.586019\n",
      "0       Abr1   0.592014\n",
      "68      SGq1   0.595432\n",
      "15       dII   0.596290\n",
      "54     OLEq1   0.617125\n",
      "38      IOCA   0.626779\n",
      "20        DP   0.633452\n",
      "29      EPRD   0.653833\n",
      "43       IVG   0.663898\n",
      "59       PDA   0.665410\n",
      "30       ETL   0.668857\n",
      "67       RS1   0.678578\n",
      "51       OCA   0.679476\n",
      "34        IG   0.695774\n",
      "33        HS   0.699214\n",
      "23     dROE1   0.709368\n",
      "4        CEI   0.715259\n",
      "88       SUE   0.722035\n",
      "55        OP   0.722589\n",
      "40     ISFF1   0.723839\n",
      "61       PTA   0.728040\n",
      "10       DAC   0.730415\n",
      "31       ETR   0.730819\n",
      "21      dPIA   0.742913\n",
      "42       IVC   0.743444\n",
      "11       dBE   0.748181\n",
      "49       NOP   0.750392\n",
      "71        TA   0.759930\n",
      "8         CP   0.761800\n",
      "25       dWC   0.771232\n",
      "92        NI   0.777973\n",
      "46       NDF   0.799674\n",
      "24       Dur   0.828909\n",
      "16      dLNO   0.834849\n",
      "27        EM   0.836953\n",
      "70        SP   0.837453\n",
      "12      dCOA   0.838004\n",
      "72       TV1   0.838172\n",
      "13      dFIN   0.845830\n",
      "52       OCP   0.856581\n",
      "32       GPA   0.858876\n",
      "26       EBP   0.862639\n",
      "2        ATO   0.896418\n",
      "58     P52W6   0.896599\n",
      "66      ROE1   0.904439\n",
      "41      ISq1   0.905807\n",
      "73       VHP   0.910172\n",
      "50        OA   0.912639\n",
      "14      dFNL   0.914733\n",
      "47      NEI1   0.936123\n",
      "19      dNOA   0.938508\n",
      "60       POA   0.947932\n",
      "28        EP   0.974210\n",
      "65      ROA1   0.986660\n",
      "9        CTO   1.016899\n",
      "44      IVq1   1.019379\n",
      "56       OPA   1.029103\n",
      "17      dNCA   1.041277\n",
      "53        OL   1.060375\n",
      "48       NOA   1.082759\n",
      "3         BM   1.098732\n",
      "57       OPE   1.137352\n",
      "18      dNCO   1.146558\n",
      "94      PEAD   1.146936\n",
      "82       BAB   1.204142\n",
      "87      IVOL   1.217587\n",
      "93      BETA   1.232590\n",
      "6        CLA   1.316377\n",
      "95       FIN   1.335761\n",
      "7        COP   1.410864\n",
      "86       REG   1.508552\n",
      "90       ROE   1.651713\n",
      "80      HMLM   1.796402\n",
      "84       STR   2.056642\n",
      "85       LTR   2.090078\n",
      "79       UMD   2.129762\n",
      "81       QMJ   2.284475\n",
      "89        IA   2.570511\n",
      "77       RMW   2.795487\n",
      "76       HML   3.136197\n",
      "78       CMA   3.358202\n",
      "45        ME   4.060444\n",
      "75       SMB  10.709886\n",
      "74     MKTRF  16.723306\n"
     ]
    }
   ],
   "source": [
    "sumbeta = np.linalg.norm(np.linalg.inv(X.T @ X) @ X.T @ Y, axis=1)\n",
    "\n",
    "dataframe=pd.DataFrame({'Column1': df96.columns[1:], 'Column2': sumbeta })\n",
    "pd.set_option('display.max_rows', None)\n",
    "pd.set_option('display.max_columns', None)\n",
    "pd.set_option('display.width', None)\n",
    "print(dataframe.sort_values('Column2'))"
   ]
  },
  {
   "cell_type": "code",
   "execution_count": 27,
   "metadata": {},
   "outputs": [],
   "source": [
    "\n",
    "chosen_set = []\n",
    "# print(df['Unnamed: 0'][year_i*12])\n",
    "\n",
    "# dfff = dff22[:36*12]\n",
    "dfff = dff96\n",
    "Z = np.float64(dfff)\n",
    "n, p = Z.shape\n",
    "# SVD Z and define the knum principal components\n",
    "\n",
    "# Define the optimization variable Gamma\n",
    "Gamma = cp.Variable((p, p))\n",
    "# Define the objective function\n",
    "#####################################################################################\n",
    "# objective = cp.Minimize(cp.norm(U - Z @ Gamma, 'fro')**2)\n",
    "# objective = cp.Minimize(cp.norm(Z - Z @ Gamma, 'fro')**2)\n",
    "objective = cp.Minimize(cp.norm(np.ones((1,n))@Z - np.ones((1,n))@Z @ Gamma, 'fro')**2)\n",
    "                        \n",
    "                        \n",
    "# Define the constraint\n",
    "constraints = [\n",
    "    cp.sum(cp.norm(Gamma, 2, axis=1))<= 10\n",
    "]\n",
    "# Define the optimization problem\n",
    "problem = cp.Problem(objective, constraints)\n",
    "# Solve the optimization problem\n",
    "result = problem.solve()\n",
    "# Return the optimal value and the optimal Gamma\n"
   ]
  },
  {
   "cell_type": "code",
   "execution_count": 2,
   "metadata": {},
   "outputs": [
    {
     "name": "stdout",
     "output_type": "stream",
     "text": [
      "[[1.92406373]]\n"
     ]
    }
   ],
   "source": [
    "df9696 = pd.read_csv('/home/guonaixin/trylab/X_full_96.csv')\n",
    "dff9696 = np.array(df9696[df9696.columns[1:]])[:36*12]\n",
    "weight= pd.read_csv('/home/guonaixin/trylab/weight.csv', header=None)\n",
    "weight = np.array(weight)\n",
    "mu = weight.T @ np.mean(dff9696,axis=0)\n",
    "sig = np.sqrt(weight.T @ np.cov(dff9696.T)  @ weight)\n",
    "sp = np.sqrt(12)* mu / sig\n",
    "print(sp)"
   ]
  },
  {
   "cell_type": "code",
   "execution_count": 167,
   "metadata": {},
   "outputs": [
    {
     "name": "stdout",
     "output_type": "stream",
     "text": [
      "sr_best 0.25313651585327346\n",
      "[ 0  6 11 12 16 18]\n",
      "[2.74290137e-10 1.00414447e+00 1.31970325e+00 1.46929044e+00\n",
      " 1.40850265e+00 4.33415145e-10 7.69542119e-11 1.00390045e-10\n",
      " 3.90839572e-10 1.86641981e-01 1.91588026e-10 3.18536121e-01\n",
      " 1.61565455e-10 1.30948785e+00 5.67204222e-11 1.09452740e-09\n",
      " 8.20205448e-11 4.91254731e-01 2.01128443e-10 4.92438498e-01]\n",
      "[3, 4, 2, 13, 1] sr 0.027876303309657718\n"
     ]
    }
   ],
   "source": []
  },
  {
   "cell_type": "code",
   "execution_count": 140,
   "metadata": {},
   "outputs": [
    {
     "data": {
      "text/plain": [
       "array([1.12196146e+00, 6.79739753e-01, 6.38822052e-01, 6.08555925e-01,\n",
       "       5.67800879e-01, 5.46259782e-01, 5.12670005e-01, 1.62055249e-01,\n",
       "       4.85420984e-01, 2.46713419e-01, 2.77332795e-01, 3.01109428e-01,\n",
       "       3.59902608e-01, 4.41003413e-01, 3.97751507e-01, 4.07157018e-01,\n",
       "                  nan,            nan, 6.95619510e-09, 7.39113650e-09])"
      ]
     },
     "execution_count": 140,
     "metadata": {},
     "output_type": "execute_result"
    }
   ],
   "source": [
    "difference = Z - Z_approx\n",
    "Sigma = np.cov(np.transpose(difference), rowvar=True)  \n",
    "S,U=np.linalg.eig(Sigma)\n",
    "np.sqrt(S)"
   ]
  },
  {
   "cell_type": "code",
   "execution_count": 154,
   "metadata": {},
   "outputs": [],
   "source": [
    "St=np.array([ 0,  6, 11, 12, 16])\n",
    "# Define the dimensions of the matrices\n",
    "Z=Z\n",
    "n, p = Z.shape\n",
    "mu0 = np.mean(Z, axis=0)\n",
    "Sigma0 = np.cov(Z.T)\n",
    "# Define the optimization variable Gamma\n",
    "# Gamma = cp.Variable((p, p))\n",
    "Z0 = Z[:,St]\n",
    "Gamma0 = np.zeros((p, p))\n",
    "Gamma0[St] = (np.linalg.pinv(Z0.T@Z0)@Z0.T@Z)\n",
    "\n",
    "Sigma = (Z-Z@Gamma0).T@(Z-Z@Gamma0)/n\n",
    "# Sigma = np.cov((Z-Z@Gamma0).T)      \n",
    "S,U=np.linalg.eig(Sigma)\n",
    "Sigma_inv_half=U@np.diag(np.sqrt(1/S))@U.T"
   ]
  },
  {
   "cell_type": "code",
   "execution_count": 3,
   "metadata": {},
   "outputs": [
    {
     "name": "stdout",
     "output_type": "stream",
     "text": [
      "sr_best 0.25313651585327346\n",
      "sr 0 [16, 11, 12, 6, 0] 0.2159572168501919\n",
      "sr 1 [16, 17, 7, 3, 1] 0.04745950435239066\n",
      "sr 2 [15, 13, 8, 17, 14] 0.044644916506591366\n",
      "sr 3 [17, 10, 5, 1, 8] 0.029636653015905307\n",
      "sr 4 [19, 17, 7, 2, 15] 0.04131528459678209\n",
      "sr 5 [19, 13, 17, 8, 10] 0.029233837457708828\n",
      "sr 6 [10, 5, 8, 17, 13] 0.02740645331374619\n",
      "sr 7 [5, 8, 10, 17, 1] 0.029636653015905314\n",
      "sr 8 [17, 5, 10, 18, 1] 0.017575353610692186\n",
      "sr 9 [13, 5, 17, 10, 1] 0.020264656111595093\n"
     ]
    },
    {
     "data": {
      "text/plain": [
       "[13, 5, 17, 10, 1]"
      ]
     },
     "execution_count": 3,
     "metadata": {},
     "output_type": "execute_result"
    }
   ],
   "source": [
    "unionset = choose_factor('DGL_new1', Z, knum, train_size=600, svd_C = 1000, asset=[[None]],fix_true = None,fix_false = None,hyper_p = 0.1) \n",
    "unionset "
   ]
  }
 ],
 "metadata": {
  "kernelspec": {
   "display_name": "Python 3",
   "language": "python",
   "name": "python3"
  },
  "language_info": {
   "codemirror_mode": {
    "name": "ipython",
    "version": 3
   },
   "file_extension": ".py",
   "mimetype": "text/x-python",
   "name": "python",
   "nbconvert_exporter": "python",
   "pygments_lexer": "ipython3",
   "version": "3.10.12"
  },
  "orig_nbformat": 4
 },
 "nbformat": 4,
 "nbformat_minor": 2
}
