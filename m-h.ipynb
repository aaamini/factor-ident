{
 "cells": [
  {
   "cell_type": "code",
   "execution_count": 13,
   "metadata": {},
   "outputs": [
    {
     "name": "stdout",
     "output_type": "stream",
     "text": [
      "[8.74469887e-05 1.45996978e-05 2.33585915e-05 1.56420666e-05\n",
      " 4.01194894e-05 5.61678507e-05 1.66474207e-05 7.15353929e-08\n",
      " 1.61434127e-05 1.27314027e-04 8.16909296e-06 2.34963023e-05\n",
      " 1.70911911e-05 1.32638001e-05 6.09953854e-06 1.55389300e-05\n",
      " 2.05690640e-06 1.44902626e-05 7.71637947e-06 1.55911962e-05\n",
      " 5.36333600e-06 1.10601985e-05 6.74591805e-05 1.06074225e-05\n",
      " 5.29169198e-06]\n",
      "[9, 0, 22, 5, 4] sr 0.10560294716641169\n"
     ]
    }
   ],
   "source": [
    "import random\n",
    "from helpers import *\n",
    "# random.seed(6)\n",
    "# np.random.seed(6)\n",
    "i=0\n",
    "df = pd.read_csv('/home/guonaixin/trylab/factor-ident/simu_matrix/20Xfull'+str(i+1)+'.csv')\n",
    "df =df.drop('Unnamed: 0',axis=1)\n",
    "Z = np.array(df,dtype = 'float64')\n",
    "\n",
    "# redefine Z to be all the other columns except the last one\n",
    "n,p= Z.shape\n",
    "Znorm = normalize_columns(Z)\n",
    "mu0 = np.mean(Znorm, axis=0)\n",
    "Sigma0 = np.cov(Znorm.T)\n",
    "#Gamma0 = np.zeros((p, p))\n",
    "Gamma0 =np.random.normal(0.0001,0.001,(p,p))\n",
    "#find best sr\n",
    "# St = sr_best(Znorm,lambda_val = 0.01, sigma = 500, T = 10000)\n",
    "# print(St)\n",
    "St=np.array([ 0, 4, 6, 9, 22])\n",
    "Z0 = Z[:,St]\n",
    "Gamma0[St] = np.linalg.inv(Z0.T@Z0)@Z0.T@Z\n",
    "\n",
    "Gamma = cp.Variable((p,p))\n",
    "Gamma.value = Gamma0\n",
    "############ Sigma 1 ###################\n",
    "Sigma = np.cov((Z-Z@Gamma.value).T)\n",
    "############ Sigma 2 ###################\n",
    "# Sigma = (Z-Z@Gamma0).T@(Z-Z@Gamma0)/n\n",
    "############ Sigma 3 ###################\n",
    "# k=5\n",
    "# U, S, V =  np.linalg.svd(Z)\n",
    "# Z_approx = U[:, :k] @ np.diag(S[:k]) @ V[:k, :]\n",
    "# # Calculate the difference between the rank-k approximation and the actual values\n",
    "# difference = Z - Z_approx\n",
    "# Sigma = np.cov(np.transpose(difference), rowvar=True)  \n",
    "# Sigma_inverse = np.linalg.inv(covariance_matrix) / 10**17\n",
    "\n",
    "S,U=np.linalg.eig(Sigma)\n",
    "Sigma_half_inv =U@np.diag(np.sqrt(1/S))@U.T/ 10**13\n",
    "\n",
    "for i in range(1):\n",
    "    objective = cp.Minimize(cp.norm( Sigma_half_inv @ Z.T - Sigma_half_inv @ Gamma.T @ Z.T  , 'fro')**2)\n",
    "    # Define the constraint\n",
    "    constraints = [\n",
    "        cp.sum(cp.norm(Gamma, 2, axis=1))<=5\n",
    "    ]\n",
    "    # Define the optimization problem\n",
    "    problem = cp.Problem(objective, constraints)\n",
    "    # Solve the optimization problem\n",
    "    result = problem.solve()\n",
    "\n",
    "St0= chosen_set_with_press(Gamma.value,5,Znorm)[0]\n",
    "print(np.linalg.norm(Gamma.value, axis=1))\n",
    "print(St0,'sr',sr(np.linalg.solve(Sigma0[St0][:, St0], mu0[St0]), mu0[St0], Sigma0[St0][:, St0]) )\n"
   ]
  },
  {
   "cell_type": "code",
   "execution_count": 16,
   "metadata": {},
   "outputs": [],
   "source": [
    "from helpers import  *\n",
    "\n",
    "def estimate_subset(k, Z, T, sigma, lambd):\n",
    "    n, p = Z.shape\n",
    "    Mh = compute_k_truncated_svd(Z, k)[0]  # Perform k-truncated SVD of Z\n",
    "\n",
    "    # Calculate sample mean and sample covariance matrix\n",
    "    alpha_hat = np.mean(Z - Mh, axis=0)\n",
    "    Sigma = np.cov((Z - Mh).T)\n",
    "    S,U=np.linalg.eig(Sigma)\n",
    "    S = np.abs(S)\n",
    "    Sigma_half_inv =U@np.diag(np.sqrt(1/S))@U.T\n",
    "    # Initialize S1 with indices of top 2k largest values of alpha_i / sqrt(Sigma_ii)\n",
    "    indices = np.argsort(alpha_hat / np.sqrt(np.diag(Sigma)))[::-1][:2*k]\n",
    "    St = set(indices)\n",
    "    \n",
    "    SRwPenalty = np.zeros(T)\n",
    "    #record the subset selection in each MH update\n",
    "    Sseq = np.zeros((p, T))\n",
    "    for t in range(T):\n",
    "        j = np.random.randint(p)  # Generate a random index\n",
    "        # Create new subset S_new by adding or removing j\n",
    "        Z_St = Z[:, list(St)]\n",
    "        if j in St:\n",
    "            \n",
    "            S_new = St - {j}\n",
    "           \n",
    "        else:\n",
    "            S_new = St | {j}\n",
    "           \n",
    "        Z_S_new = Z[:, list(S_new)]    \n",
    "        Theta_new = np.linalg.inv(Z_S_new.T @ Z_S_new) @ Z_S_new.T  @ Z \n",
    "        \n",
    "   \n",
    "        # Calculate the new Theta and acceptance probability\n",
    "      \n",
    "        Theta = np.linalg.inv(Z_St.T @ Z_St) @ Z_St.T  @ Z \n",
    "        acceptance_prob = np.exp(\n",
    "            -sigma * np.linalg.norm(( Sigma_half_inv  @ Z.T) - ( Sigma_half_inv  @ (Z_S_new @ Theta_new).T), 'fro')**2\n",
    "            - lambd * len(S_new)\n",
    "            +sigma * np.linalg.norm(( Sigma_half_inv @ Z.T) - ( Sigma_half_inv @ (Z_St@ Theta).T), 'fro')**2\n",
    "            + lambd * len(St)\n",
    "        )\n",
    "       \n",
    "        # Set the new subset S_t+1 with probability according to acceptance probability\n",
    "        if np.random.rand() > acceptance_prob:\n",
    "            St = S_new\n",
    "            \n",
    "        Sseq[list(S_new), t] = 1\n",
    "\n",
    "        #record Sharpe ratio + penalty\n",
    "        SRwPenalty[t] = - sigma * np.linalg.norm(( Sigma_half_inv  @ Z.T) - ( Sigma_half_inv  @ (Z_S_new @ Theta_new).T), 'fro')**2 - lambd * len(S_new)\n",
    "        \n",
    "    import matplotlib.pyplot as plt\n",
    "    #Plots\n",
    "    plt.plot(SRwPenalty/10**20)\n",
    "    plt.plot(np.sum(Sseq, axis=0))    \n",
    "    sridx = np.argmax(SRwPenalty)\n",
    "    #Find the indices of selected factors\n",
    "    Sopt = np.where(Sseq[:, sridx])[0]\n",
    "    \n",
    "    return Sopt"
   ]
  },
  {
   "cell_type": "code",
   "execution_count": 17,
   "metadata": {},
   "outputs": [
    {
     "name": "stdout",
     "output_type": "stream",
     "text": [
      "[ 0  1  2  3  4  6  8 18 19 22 23]\n"
     ]
    },
    {
     "data": {
      "image/png": "[encoded data removed]",
      "text/plain": [
       "<Figure size 640x480 with 1 Axes>"
      ]
     },
     "metadata": {},
     "output_type": "display_data"
    }
   ],
   "source": [
    "i=0\n",
    "df = pd.read_csv('/home/guonaixin/trylab/factor-ident/simu_matrix/20Xfull'+str(i+1)+'.csv')\n",
    "df =df.drop('Unnamed: 0',axis=1)\n",
    "Z = np.array(df,dtype = 'float64')\n",
    "print(estimate_subset(5, Z, 1000, 10, 10))"
   ]
  }
 ],
 "metadata": {
  "kernelspec": {
   "display_name": "Python 3",
   "language": "python",
   "name": "python3"
  },
  "language_info": {
   "codemirror_mode": {
    "name": "ipython",
    "version": 3
   },
   "file_extension": ".py",
   "mimetype": "text/x-python",
   "name": "python",
   "nbconvert_exporter": "python",
   "pygments_lexer": "ipython3",
   "version": "3.10.12"
  },
  "orig_nbformat": 4
 },
 "nbformat": 4,
 "nbformat_minor": 2
}
